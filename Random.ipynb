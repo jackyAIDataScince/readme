{
  "nbformat": 4,
  "nbformat_minor": 0,
  "metadata": {
    "colab": {
      "provenance": [],
      "collapsed_sections": []
    },
    "kernelspec": {
      "name": "python3",
      "display_name": "Python 3"
    },
    "language_info": {
      "name": "python"
    }
  },
  "cells": [
    {
      "cell_type": "code",
      "execution_count": 10,
      "metadata": {
        "colab": {
          "base_uri": "https://localhost:8080/"
        },
        "id": "wWX69UiG7ztu",
        "outputId": "90c239a4-8470-4d86-c9bc-eb24ee73c6cb"
      },
      "outputs": [
        {
          "output_type": "stream",
          "name": "stdout",
          "text": [
            "Enter any number:12\n",
            "Too high\n",
            "Enter number again:5\n",
            "Too high\n",
            "Enter number again:7\n",
            "Too high\n",
            "Enter number again:9\n",
            "Too high\n",
            "Enter number again:5\n",
            "Too high\n",
            "Enter number again:4\n",
            "Too high\n",
            "Enter number again:3\n",
            "Too high\n",
            "Enter number again:2\n",
            "Too high\n",
            "Enter number again:1\n",
            "You guessed it right!!\n"
          ]
        }
      ],
      "source": [
        "import random\n",
        "n = random.randrange(1,10)\n",
        "guess = int(input(\"Enter any number:\")) \n",
        "while n!= guess:\n",
        "    if guess < n:\n",
        "       print(\"Too Low\")\n",
        "       guess = int(input(\"Enter number again:\"))\n",
        "    elif guess > n:\n",
        "        print(\"Too high\")\n",
        "        guess = int(input(\"Enter number again:\"))\n",
        "    else : \n",
        "       break\n",
        "\n",
        "print(\"You guessed it right!!\")          "
      ]
    }
  ]
}