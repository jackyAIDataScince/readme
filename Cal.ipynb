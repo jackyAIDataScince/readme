{
  "nbformat": 4,
  "nbformat_minor": 0,
  "metadata": {
    "colab": {
      "provenance": []
    },
    "kernelspec": {
      "name": "python3",
      "display_name": "Python 3"
    },
    "language_info": {
      "name": "python"
    }
  },
  "cells": [
    {
      "cell_type": "code",
      "execution_count": 3,
      "metadata": {
        "colab": {
          "base_uri": "https://localhost:8080/"
        },
        "id": "ZhQu910Zlkft",
        "outputId": "142877a5-e3a2-4c6c-fb78-4f6f11b66218"
      },
      "outputs": [
        {
          "output_type": "stream",
          "name": "stdout",
          "text": [
            "20.2\n"
          ]
        }
      ],
      "source": [
        "#*** mean\n",
        "list = [12, 16, 20, 20, 12, 30, 25, 23, 24, 20]\n",
        "#print(list)\n",
        "mean = sum(list) / len(list)\n",
        "print(mean)"
      ]
    },
    {
      "cell_type": "code",
      "source": [
        "#*** Median \n",
        "#list = [12,16,20,20,12,30,25,23,24,20]\n",
        "list.sort()\n",
        "if len(list) % 2 == 0:\n",
        "    m1 = list[len(list)//2]\n",
        "    m2 = list[len(list)//2 - 1]\n",
        "    median = (m1 + m2)/2\n",
        "else:\n",
        "    median = list[len(list)//2]\n",
        "print(median)"
      ],
      "metadata": {
        "colab": {
          "base_uri": "https://localhost:8080/"
        },
        "id": "kMTQnCJwvx5C",
        "outputId": "b9b36ccc-7acf-41b4-b5f5-155214075fc0"
      },
      "execution_count": 7,
      "outputs": [
        {
          "output_type": "stream",
          "name": "stdout",
          "text": [
            "20.0\n"
          ]
        }
      ]
    },
    {
      "cell_type": "code",
      "source": [
        "##Mode\n",
        "frequency = {}\n",
        "for i in list:\n",
        "    frequency.setdefault(i, 0)\n",
        "    frequency[i]+=1\n",
        "frequent = max(frequency.values())\n",
        "for i, j in frequency.items():\n",
        "    if j == frequent:\n",
        "        mode = i\n",
        "print(mode)        "
      ],
      "metadata": {
        "colab": {
          "base_uri": "https://localhost:8080/"
        },
        "id": "XiPC3QVzy2hx",
        "outputId": "1e8f9423-7491-4826-a68b-ceb74c09f116"
      },
      "execution_count": 11,
      "outputs": [
        {
          "output_type": "stream",
          "name": "stdout",
          "text": [
            "20\n"
          ]
        }
      ]
    }
  ]
}